{
  "cells": [
    {
      "cell_type": "markdown",
      "metadata": {
        "id": "view-in-github",
        "colab_type": "text"
      },
      "source": [
        "<a href=\"https://colab.research.google.com/github/dipnarayan501/Assignment3/blob/main/attention_without_wandb.ipynb\" target=\"_parent\"><img src=\"https://colab.research.google.com/assets/colab-badge.svg\" alt=\"Open In Colab\"/></a>"
      ]
    },
    {
      "cell_type": "code",
      "execution_count": null,
      "metadata": {
        "id": "6VgLpCUITeG0"
      },
      "outputs": [],
      "source": [
        "import numpy as np\n",
        "import matplotlib.pyplot as plt\n",
        "import pandas as pd\n",
        "import pickle"
      ]
    },
    {
      "cell_type": "code",
      "source": [
        "from google.colab import drive\n",
        "drive.mount('/content/drive')\n"
      ],
      "metadata": {
        "colab": {
          "base_uri": "https://localhost:8080/"
        },
        "id": "daqcGfxprZ3B",
        "outputId": "b0fcf780-d799-4f4e-d285-c865d20ea46b"
      },
      "execution_count": null,
      "outputs": [
        {
          "output_type": "stream",
          "name": "stdout",
          "text": [
            "Mounted at /content/drive\n"
          ]
        }
      ]
    },
    {
      "cell_type": "code",
      "source": [
        "zip_path = \"drive/MyDrive/hi.zip\"\n",
        "!cp \"{zip_path}\" .\n",
        "!unzip -q hi.zip"
      ],
      "metadata": {
        "id": "fuiaj-rwrfcQ"
      },
      "execution_count": null,
      "outputs": []
    },
    {
      "cell_type": "code",
      "source": [
        ""
      ],
      "metadata": {
        "id": "RBVO7bLK-TmJ"
      },
      "execution_count": null,
      "outputs": []
    },
    {
      "cell_type": "code",
      "execution_count": null,
      "metadata": {
        "id": "q42r5SX-anOe"
      },
      "outputs": [],
      "source": [
        "def load_data(path):\n",
        "    with open(path) as fil:\n",
        "        data = pd.read_csv(fil,sep='\\t',header=None,names=[\"hi\",\"en\",\"\"],skip_blank_lines=True,index_col=None)\n",
        "    data = data[data['hi'].notna()]\n",
        "    data = data[data['en'].notna()]\n",
        "    data = data[['hi','en']]\n",
        "    return data"
      ]
    },
    {
      "cell_type": "code",
      "execution_count": null,
      "metadata": {
        "id": "4OFs4DvTTtPB"
      },
      "outputs": [],
      "source": [
        "train = load_data(\"hi/lexicons/hi.translit.sampled.train.tsv\")\n",
        "dev = load_data(\"hi/lexicons/hi.translit.sampled.dev.tsv\")\n",
        "test = load_data(\"hi/lexicons/hi.translit.sampled.test.tsv\")"
      ]
    },
    {
      "cell_type": "code",
      "source": [
        "x = train['en'].values\n",
        "y = train['hi'].values\n",
        "y = '\\t'+y+'\\n'"
      ],
      "metadata": {
        "id": "njHmgQBG-pnJ"
      },
      "execution_count": null,
      "outputs": []
    },
    {
      "cell_type": "code",
      "execution_count": null,
      "metadata": {
        "colab": {
          "base_uri": "https://localhost:8080/",
          "height": 206
        },
        "id": "0-JF8OnET2FL",
        "outputId": "95b2ccf1-91f6-4363-c7e2-59c85918a8dc"
      },
      "outputs": [
        {
          "output_type": "execute_result",
          "data": {
            "text/plain": [
              "        hi        en\n",
              "0       अं        an\n",
              "1  अंकगणित  ankganit\n",
              "2     अंकल     uncle\n",
              "3    अंकुर     ankur\n",
              "4   अंकुरण   ankuran"
            ],
            "text/html": [
              "\n",
              "  <div id=\"df-bcbf0fa5-ce08-42ad-9bf3-5804e9cf85b8\">\n",
              "    <div class=\"colab-df-container\">\n",
              "      <div>\n",
              "<style scoped>\n",
              "    .dataframe tbody tr th:only-of-type {\n",
              "        vertical-align: middle;\n",
              "    }\n",
              "\n",
              "    .dataframe tbody tr th {\n",
              "        vertical-align: top;\n",
              "    }\n",
              "\n",
              "    .dataframe thead th {\n",
              "        text-align: right;\n",
              "    }\n",
              "</style>\n",
              "<table border=\"1\" class=\"dataframe\">\n",
              "  <thead>\n",
              "    <tr style=\"text-align: right;\">\n",
              "      <th></th>\n",
              "      <th>hi</th>\n",
              "      <th>en</th>\n",
              "    </tr>\n",
              "  </thead>\n",
              "  <tbody>\n",
              "    <tr>\n",
              "      <th>0</th>\n",
              "      <td>अं</td>\n",
              "      <td>an</td>\n",
              "    </tr>\n",
              "    <tr>\n",
              "      <th>1</th>\n",
              "      <td>अंकगणित</td>\n",
              "      <td>ankganit</td>\n",
              "    </tr>\n",
              "    <tr>\n",
              "      <th>2</th>\n",
              "      <td>अंकल</td>\n",
              "      <td>uncle</td>\n",
              "    </tr>\n",
              "    <tr>\n",
              "      <th>3</th>\n",
              "      <td>अंकुर</td>\n",
              "      <td>ankur</td>\n",
              "    </tr>\n",
              "    <tr>\n",
              "      <th>4</th>\n",
              "      <td>अंकुरण</td>\n",
              "      <td>ankuran</td>\n",
              "    </tr>\n",
              "  </tbody>\n",
              "</table>\n",
              "</div>\n",
              "      <button class=\"colab-df-convert\" onclick=\"convertToInteractive('df-bcbf0fa5-ce08-42ad-9bf3-5804e9cf85b8')\"\n",
              "              title=\"Convert this dataframe to an interactive table.\"\n",
              "              style=\"display:none;\">\n",
              "        \n",
              "  <svg xmlns=\"http://www.w3.org/2000/svg\" height=\"24px\"viewBox=\"0 0 24 24\"\n",
              "       width=\"24px\">\n",
              "    <path d=\"M0 0h24v24H0V0z\" fill=\"none\"/>\n",
              "    <path d=\"M18.56 5.44l.94 2.06.94-2.06 2.06-.94-2.06-.94-.94-2.06-.94 2.06-2.06.94zm-11 1L8.5 8.5l.94-2.06 2.06-.94-2.06-.94L8.5 2.5l-.94 2.06-2.06.94zm10 10l.94 2.06.94-2.06 2.06-.94-2.06-.94-.94-2.06-.94 2.06-2.06.94z\"/><path d=\"M17.41 7.96l-1.37-1.37c-.4-.4-.92-.59-1.43-.59-.52 0-1.04.2-1.43.59L10.3 9.45l-7.72 7.72c-.78.78-.78 2.05 0 2.83L4 21.41c.39.39.9.59 1.41.59.51 0 1.02-.2 1.41-.59l7.78-7.78 2.81-2.81c.8-.78.8-2.07 0-2.86zM5.41 20L4 18.59l7.72-7.72 1.47 1.35L5.41 20z\"/>\n",
              "  </svg>\n",
              "      </button>\n",
              "      \n",
              "  <style>\n",
              "    .colab-df-container {\n",
              "      display:flex;\n",
              "      flex-wrap:wrap;\n",
              "      gap: 12px;\n",
              "    }\n",
              "\n",
              "    .colab-df-convert {\n",
              "      background-color: #E8F0FE;\n",
              "      border: none;\n",
              "      border-radius: 50%;\n",
              "      cursor: pointer;\n",
              "      display: none;\n",
              "      fill: #1967D2;\n",
              "      height: 32px;\n",
              "      padding: 0 0 0 0;\n",
              "      width: 32px;\n",
              "    }\n",
              "\n",
              "    .colab-df-convert:hover {\n",
              "      background-color: #E2EBFA;\n",
              "      box-shadow: 0px 1px 2px rgba(60, 64, 67, 0.3), 0px 1px 3px 1px rgba(60, 64, 67, 0.15);\n",
              "      fill: #174EA6;\n",
              "    }\n",
              "\n",
              "    [theme=dark] .colab-df-convert {\n",
              "      background-color: #3B4455;\n",
              "      fill: #D2E3FC;\n",
              "    }\n",
              "\n",
              "    [theme=dark] .colab-df-convert:hover {\n",
              "      background-color: #434B5C;\n",
              "      box-shadow: 0px 1px 3px 1px rgba(0, 0, 0, 0.15);\n",
              "      filter: drop-shadow(0px 1px 2px rgba(0, 0, 0, 0.3));\n",
              "      fill: #FFFFFF;\n",
              "    }\n",
              "  </style>\n",
              "\n",
              "      <script>\n",
              "        const buttonEl =\n",
              "          document.querySelector('#df-bcbf0fa5-ce08-42ad-9bf3-5804e9cf85b8 button.colab-df-convert');\n",
              "        buttonEl.style.display =\n",
              "          google.colab.kernel.accessAllowed ? 'block' : 'none';\n",
              "\n",
              "        async function convertToInteractive(key) {\n",
              "          const element = document.querySelector('#df-bcbf0fa5-ce08-42ad-9bf3-5804e9cf85b8');\n",
              "          const dataTable =\n",
              "            await google.colab.kernel.invokeFunction('convertToInteractive',\n",
              "                                                     [key], {});\n",
              "          if (!dataTable) return;\n",
              "\n",
              "          const docLinkHtml = 'Like what you see? Visit the ' +\n",
              "            '<a target=\"_blank\" href=https://colab.research.google.com/notebooks/data_table.ipynb>data table notebook</a>'\n",
              "            + ' to learn more about interactive tables.';\n",
              "          element.innerHTML = '';\n",
              "          dataTable['output_type'] = 'display_data';\n",
              "          await google.colab.output.renderOutput(dataTable, element);\n",
              "          const docLink = document.createElement('div');\n",
              "          docLink.innerHTML = docLinkHtml;\n",
              "          element.appendChild(docLink);\n",
              "        }\n",
              "      </script>\n",
              "    </div>\n",
              "  </div>\n",
              "  "
            ]
          },
          "metadata": {},
          "execution_count": 7
        }
      ],
      "source": [
        "train.head()"
      ]
    },
    {
      "cell_type": "code",
      "execution_count": null,
      "metadata": {
        "id": "bEnBqQAqT5h-"
      },
      "outputs": [],
      "source": [
        "def unique_tokenize(train):\n",
        "    en = train['en'].values\n",
        "    hi = train['hi'].values\n",
        "    hi = '\\t'+hi+'\\n'\n",
        "    english_tokens = set()\n",
        "    hindi_tokens = set()\n",
        "    \n",
        "    for x,y in zip(en,hi):\n",
        "        for ch in x:\n",
        "            english_tokens.add(ch)\n",
        "        for ch in y:\n",
        "            hindi_tokens.add(ch)\n",
        "    english_tokens = sorted(list(english_tokens))\n",
        "    hindi_tokens = sorted(list(hindi_tokens))\n",
        "    return hindi_tokens , english_tokens\n",
        "hindi_tokens , english_tokens = unique_tokenize(train)"
      ]
    },
    {
      "cell_type": "code",
      "execution_count": null,
      "metadata": {
        "id": "p1Bph1kNT6wA"
      },
      "outputs": [],
      "source": [
        "def tokenize_map(hindi_tokens , english_tokens):\n",
        "    eng_token_map = dict([(ch,i+1) for i,ch in enumerate(english_tokens)])\n",
        "    hin_token_map = dict([(ch,i+1) for i,ch in enumerate(hindi_tokens)])\n",
        "    hin_token_map[\" \"] = 0\n",
        "    eng_token_map[\" \"] = 0\n",
        "    return hin_token_map, eng_token_map\n",
        "\n",
        "hin_token_map, eng_token_map = tokenize_map(hindi_tokens , english_tokens)"
      ]
    },
    {
      "cell_type": "code",
      "source": [
        "\n",
        "max_eng_len = max([len(i) for i in x])\n",
        "max_hin_len = max([len(i) for i in y])"
      ],
      "metadata": {
        "id": "yR1xHVd59duE"
      },
      "execution_count": null,
      "outputs": []
    },
    {
      "cell_type": "code",
      "execution_count": null,
      "metadata": {
        "id": "PxgxWQwnT8D3"
      },
      "outputs": [],
      "source": [
        "np.random.seed(42)\n",
        "reverse_eng_map = dict([(i,char) for char,i in eng_token_map.items()])\n",
        "reverse_hin_map = dict([(i,char) for char,i in hin_token_map.items()])"
      ]
    },
    {
      "cell_type": "code",
      "execution_count": null,
      "metadata": {
        "id": "daeLD1QPanOj"
      },
      "outputs": [],
      "source": [
        "def process(data):\n",
        "    x,y = data['en'].values, data['hi'].values\n",
        "    y = \"\\t\" + y + \"\\n\"\n",
        "    \n",
        "    a = np.zeros((len(x),max_eng_len),dtype=\"float32\")\n",
        "    b = np.zeros((len(y),max_hin_len),dtype=\"float32\")\n",
        "    c = np.zeros((len(y),max_hin_len,len(hindi_tokens)+1),dtype=\"int\")\n",
        "    \n",
        "    \n",
        "    for i,(xx,yy) in enumerate(zip(x,y)):\n",
        "        for j,ch in enumerate(xx):\n",
        "            a[i,j] = eng_token_map[ch]\n",
        "\n",
        "        a[i,j+1:] = eng_token_map[\" \"]\n",
        "        for j,ch in enumerate(yy):\n",
        "            b[i,j] = hin_token_map[ch]\n",
        "\n",
        "            if j>0:\n",
        "                c[i,j-1,hin_token_map[ch]] = 1\n",
        "\n",
        "        b[i,j+1:] = hin_token_map[\" \"]\n",
        "        c[i,j:,hin_token_map[\" \"]] = 1\n",
        "        \n",
        "    return a,b,c"
      ]
    },
    {
      "cell_type": "code",
      "execution_count": null,
      "metadata": {
        "id": "a8FMzKqvT9eA"
      },
      "outputs": [],
      "source": [
        "trainx, trainxx, trainy = process(train)\n",
        "valx, valxx, valy = process(dev)\n",
        "testx,testxx,testy = process(test)"
      ]
    },
    {
      "cell_type": "code",
      "execution_count": null,
      "metadata": {
        "id": "VNWQZNUCUHtL"
      },
      "outputs": [],
      "source": [
        "np.random.seed(42)"
      ]
    },
    {
      "cell_type": "code",
      "execution_count": null,
      "metadata": {
        "id": "pZ7NBmt5anOk"
      },
      "outputs": [],
      "source": [
        "reverse_eng_map = dict([(i,char) for char,i in eng_token_map.items()])\n",
        "reverse_hin_map = dict([(i,char) for char,i in hin_token_map.items()])"
      ]
    },
    {
      "cell_type": "code",
      "source": [
        ""
      ],
      "metadata": {
        "id": "OBK-LOPcywvr"
      },
      "execution_count": null,
      "outputs": []
    },
    {
      "cell_type": "code",
      "execution_count": null,
      "metadata": {
        "id": "XAGk5r-SanOl"
      },
      "outputs": [],
      "source": [
        "from tensorflow import keras\n",
        "import tensorflow as tf\n",
        "from keras.layers import SimpleRNN,LSTM,GRU,Embedding,Dense,Dropout,Input,Concatenate\n",
        "from keras import Model"
      ]
    },
    {
      "cell_type": "code",
      "execution_count": null,
      "metadata": {
        "id": "migXIN7panOl"
      },
      "outputs": [],
      "source": [
        ""
      ]
    },
    {
      "cell_type": "code",
      "execution_count": null,
      "metadata": {
        "id": "zX5KFwbIanOm"
      },
      "outputs": [],
      "source": [
        "class Attention(tf.keras.layers.Layer):\n",
        "    def __init__(self, units,name=None, **kwargs):\n",
        "        super(Attention, self).__init__(name=name)\n",
        "        self.W1 = Dense(units,name='w1')\n",
        "        self.W2 = Dense(units,name='w2')\n",
        "        self.V = Dense(1,name='v')\n",
        "        self.units = units\n",
        "        super(Attention, self).__init__(**kwargs)\n",
        "\n",
        "    def call(self, tup):\n",
        "        # query hidden state shape == (batch_size, hidden size)\n",
        "        # query_with_time_axis shape == (batch_size, 1, hidden size)\n",
        "        # values shape == (batch_size, max_len, hidden size)\n",
        "        # we are doing this to broadcast addition along the time axis to calculate the score\n",
        "        query = tup[0]\n",
        "        values = tup[1]\n",
        "        query_with_time_axis = tf.expand_dims(query, 1)\n",
        "        # score shape == (batch_size, max_length, 1)\n",
        "        # we get 1 at the last axis because we are applying score to self.V\n",
        "        # the shape of the tensor before applying self.V is (batch_size, max_length, units)\n",
        "        score = self.V(tf.nn.tanh(\n",
        "            self.W1(query_with_time_axis) + self.W2(values)))\n",
        "\n",
        "        # attention_weights shape == (batch_size, max_length, 1)\n",
        "        attention_weights = tf.nn.softmax(score, axis=1)\n",
        "\n",
        "        # context_vector shape after sum == (batch_size, hidden_size)\n",
        "        context_vector = attention_weights * values\n",
        "        context_vector = tf.reduce_sum(context_vector, axis=1)\n",
        "        \n",
        "\n",
        "        return context_vector, attention_weights\n",
        "    \n",
        "        \n",
        "    def get_config(self):\n",
        "        config = super(Attention,self).get_config()\n",
        "        config.update({\n",
        "            'units': self.units\n",
        "        })\n",
        "        return config"
      ]
    },
    {
      "cell_type": "code",
      "execution_count": null,
      "metadata": {
        "id": "uOuLWA7fanOm"
      },
      "outputs": [],
      "source": [
        "def accuracy1(real,pred):\n",
        "    real = tf.math.argmax(real,axis=2)\n",
        "    pred = tf.math.argmax(pred,axis=2)\n",
        "    mask = tf.math.logical_not(tf.math.equal(real, 0))\n",
        "    acc = tf.math.equal(real,pred)\n",
        "    mask = tf.cast(mask, dtype='int32')\n",
        "    acc = tf.cast(acc, dtype='int32')\n",
        "    acc = tf.math.multiply(acc,mask)\n",
        "    mask = tf.reduce_sum(mask,axis=1)\n",
        "    acc = tf.reduce_sum(acc,axis=1)\n",
        "    acc = tf.math.equal(acc,mask)\n",
        "    acc = tf.cast(acc, dtype='float32')\n",
        "    return tf.reduce_mean(acc)"
      ]
    },
    {
      "cell_type": "code",
      "execution_count": null,
      "metadata": {
        "id": "cu5FewVsanOn"
      },
      "outputs": [],
      "source": [
        "def build_model(cell = \"LSTM\",units = 32, enc_layers = 1, dec_layers = 1,embed_dim = 32,dense_size=256,dropout=None):\n",
        "    keras.backend.clear_session()\n",
        "    encoder_inputs = Input(shape=(None,),name='input1')\n",
        "    encoder_embedding = Embedding(input_dim=len(english_tokens)+1,output_dim = embed_dim,mask_zero=True,name=\"enc_embed\")\n",
        "    encoder_context = encoder_embedding(encoder_inputs)\n",
        "    decoder_inputs = Input(shape=(None,),name='input2')\n",
        "    decoder_embedding = Embedding(input_dim = len(hindi_tokens)+1,output_dim = embed_dim,mask_zero=True,name=\"dec_embed\")\n",
        "    decoder_context = decoder_embedding(decoder_inputs)\n",
        "    attention = Attention(units,name='attention')\n",
        "    tot_out = []\n",
        "    concat1 = Concatenate(axis=-1,name='concat1')\n",
        "    concat2 = Concatenate(axis=1,name='concat2')    \n",
        "    if cell == \"LSTM\":\n",
        "        encoder_prev = [LSTM(units,return_sequences=True,name=f\"enc_{i}\") for i in range(enc_layers-1)]\n",
        "        encoder_fin = LSTM(units,return_sequences=True,return_state=True,name=f\"enc_{enc_layers-1}\")\n",
        "        temp = encoder_context\n",
        "        for x,lay in enumerate(encoder_prev):\n",
        "            temp = lay(temp)\n",
        "            if dropout is not None:\n",
        "                temp = Dropout(dropout,name=f'do_{x}')(temp)\n",
        "            \n",
        "        enc_out = encoder_fin(temp)\n",
        "        dec_states = enc_out[1:]\n",
        "        \n",
        "        decoder = [LSTM(units,return_sequences=True,return_state=True,name=f\"dec_{i}\") for i in range(dec_layers)]\n",
        "        temp_states = [dec_states]*dec_layers\n",
        "        \n",
        "        for i in range(max_hin_len):\n",
        "            tup = (temp_states[0][0],enc_out[0])\n",
        "            context,att_wts = attention(tup)\n",
        "            temp = concat1([tf.expand_dims(context, 1), decoder_context[:,i:i+1,:]])\n",
        "#             temp = tf.expand_dims(temp, 1)\n",
        "            for i in range(dec_layers):\n",
        "                temp,sh,sc = decoder[i](temp,initial_state=temp_states[i])\n",
        "                temp_states[i] = [sh,sc]\n",
        "            tot_out.append(temp)\n",
        "            \n",
        "        outt = concat2(tot_out)\n",
        "       \n",
        "    elif cell == \"GRU\":\n",
        "        encoder_prev = [GRU(units,return_sequences=True,name=f\"enc_{i}\") for i in range(enc_layers-1)]\n",
        "        encoder_fin = GRU(units,return_sequences=True,return_state=True,name=f\"enc_{enc_layers-1}\")\n",
        "        temp = encoder_context\n",
        "        for x,lay in enumerate(encoder_prev):\n",
        "            temp = lay(temp)\n",
        "            if dropout is not None:\n",
        "                temp = Dropout(dropout,name=f'do_{x}')(temp)\n",
        "            \n",
        "        enc_out = encoder_fin(temp)\n",
        "        dec_states = enc_out[1:]\n",
        "        \n",
        "        decoder = [GRU(units,return_sequences=True,return_state=True,name=f\"dec_{i}\") for i in range(dec_layers)]\n",
        "        temp_states = []\n",
        "        for _ in range(dec_layers):\n",
        "            temp_states += dec_states\n",
        "        \n",
        "        for i in range(max_hin_len):\n",
        "            tup = (temp_states[0],enc_out[0])\n",
        "            context,att_wts = attention(tup)\n",
        "            temp = concat1([tf.expand_dims(context, 1), decoder_context[:,i:i+1,:]])\n",
        "#             temp = tf.expand_dims(temp, 1)\n",
        "            for i in range(dec_layers):\n",
        "                temp,st = decoder[i](temp,initial_state=temp_states[i])\n",
        "                temp_states[i] = st\n",
        "            tot_out.append(temp)\n",
        "            \n",
        "        outt = concat2(tot_out)\n",
        "            \n",
        "        \n",
        "    dense_lay1 = Dense(dense_size,activation='relu',name='dense1')\n",
        "    pre_out = dense_lay1(outt)\n",
        "    dense_lay2 = Dense(len(hindi_tokens)+1,activation = 'softmax',name='dense2')\n",
        "    final_output = dense_lay2(pre_out)\n",
        "    \n",
        "    train = Model([encoder_inputs,decoder_inputs],final_output)\n",
        "    \n",
        "    return train\n",
        "#     return train"
      ]
    },
    {
      "cell_type": "code",
      "execution_count": null,
      "metadata": {
        "colab": {
          "base_uri": "https://localhost:8080/"
        },
        "id": "GGY_E1buanOo",
        "outputId": "846d452a-6679-4e70-aa8e-c1131c88bce4"
      },
      "outputs": [
        {
          "output_type": "stream",
          "name": "stdout",
          "text": [
            "Epoch 1/20\n",
            "691/691 [==============================] - ETA: 0s - loss: 0.7682 - accuracy: 0.8008\n",
            "Epoch 1: val_accuracy improved from -inf to 0.92621, saving model to best_model_attention.h5\n",
            "691/691 [==============================] - 158s 160ms/step - loss: 0.7682 - accuracy: 0.8008 - val_loss: 0.2485 - val_accuracy: 0.9262\n",
            "Epoch 2/20\n",
            "691/691 [==============================] - ETA: 0s - loss: 0.2022 - accuracy: 0.9365\n",
            "Epoch 2: val_accuracy improved from 0.92621 to 0.94371, saving model to best_model_attention.h5\n",
            "691/691 [==============================] - 97s 141ms/step - loss: 0.2022 - accuracy: 0.9365 - val_loss: 0.1807 - val_accuracy: 0.9437\n",
            "Epoch 3/20\n",
            "691/691 [==============================] - ETA: 0s - loss: 0.1540 - accuracy: 0.9504\n",
            "Epoch 3: val_accuracy improved from 0.94371 to 0.95114, saving model to best_model_attention.h5\n",
            "691/691 [==============================] - 98s 141ms/step - loss: 0.1540 - accuracy: 0.9504 - val_loss: 0.1511 - val_accuracy: 0.9511\n",
            "Epoch 4/20\n",
            "691/691 [==============================] - ETA: 0s - loss: 0.1315 - accuracy: 0.9572\n",
            "Epoch 4: val_accuracy improved from 0.95114 to 0.95310, saving model to best_model_attention.h5\n",
            "691/691 [==============================] - 97s 141ms/step - loss: 0.1315 - accuracy: 0.9572 - val_loss: 0.1434 - val_accuracy: 0.9531\n",
            "Epoch 5/20\n",
            "691/691 [==============================] - ETA: 0s - loss: 0.1140 - accuracy: 0.9628\n",
            "Epoch 5: val_accuracy improved from 0.95310 to 0.95564, saving model to best_model_attention.h5\n",
            "691/691 [==============================] - 103s 149ms/step - loss: 0.1140 - accuracy: 0.9628 - val_loss: 0.1390 - val_accuracy: 0.9556\n",
            "Epoch 6/20\n",
            "691/691 [==============================] - ETA: 0s - loss: 0.1009 - accuracy: 0.9669\n",
            "Epoch 6: val_accuracy improved from 0.95564 to 0.95665, saving model to best_model_attention.h5\n",
            "691/691 [==============================] - 97s 141ms/step - loss: 0.1009 - accuracy: 0.9669 - val_loss: 0.1353 - val_accuracy: 0.9567\n",
            "Epoch 7/20\n",
            "691/691 [==============================] - ETA: 0s - loss: 0.0904 - accuracy: 0.9701\n",
            "Epoch 7: val_accuracy improved from 0.95665 to 0.95721, saving model to best_model_attention.h5\n",
            "691/691 [==============================] - 97s 141ms/step - loss: 0.0904 - accuracy: 0.9701 - val_loss: 0.1375 - val_accuracy: 0.9572\n",
            "Epoch 8/20\n",
            "691/691 [==============================] - ETA: 0s - loss: 0.0792 - accuracy: 0.9736\n",
            "Epoch 8: val_accuracy improved from 0.95721 to 0.95753, saving model to best_model_attention.h5\n",
            "691/691 [==============================] - 97s 141ms/step - loss: 0.0792 - accuracy: 0.9736 - val_loss: 0.1410 - val_accuracy: 0.9575\n",
            "Epoch 9/20\n",
            "691/691 [==============================] - ETA: 0s - loss: 0.0704 - accuracy: 0.9763\n",
            "Epoch 9: val_accuracy did not improve from 0.95753\n",
            "691/691 [==============================] - 97s 141ms/step - loss: 0.0704 - accuracy: 0.9763 - val_loss: 0.1460 - val_accuracy: 0.9569\n",
            "Epoch 10/20\n",
            "691/691 [==============================] - ETA: 0s - loss: 0.0629 - accuracy: 0.9788\n",
            "Epoch 10: val_accuracy improved from 0.95753 to 0.95771, saving model to best_model_attention.h5\n",
            "691/691 [==============================] - 98s 141ms/step - loss: 0.0629 - accuracy: 0.9788 - val_loss: 0.1476 - val_accuracy: 0.9577\n",
            "Epoch 11/20\n",
            "691/691 [==============================] - ETA: 0s - loss: 0.0556 - accuracy: 0.9811\n",
            "Epoch 11: val_accuracy did not improve from 0.95771\n",
            "691/691 [==============================] - 97s 141ms/step - loss: 0.0556 - accuracy: 0.9811 - val_loss: 0.1566 - val_accuracy: 0.9555\n",
            "Epoch 12/20\n",
            "691/691 [==============================] - ETA: 0s - loss: 0.0497 - accuracy: 0.9828\n",
            "Epoch 12: val_accuracy did not improve from 0.95771\n",
            "691/691 [==============================] - 98s 141ms/step - loss: 0.0497 - accuracy: 0.9828 - val_loss: 0.1596 - val_accuracy: 0.9572\n",
            "Epoch 13/20\n",
            "691/691 [==============================] - ETA: 0s - loss: 0.0453 - accuracy: 0.9844\n",
            "Epoch 13: val_accuracy did not improve from 0.95771\n",
            "691/691 [==============================] - 97s 140ms/step - loss: 0.0453 - accuracy: 0.9844 - val_loss: 0.1668 - val_accuracy: 0.9556\n",
            "Epoch 14/20\n",
            "691/691 [==============================] - ETA: 0s - loss: 0.0435 - accuracy: 0.9848\n",
            "Epoch 14: val_accuracy did not improve from 0.95771\n",
            "691/691 [==============================] - 97s 140ms/step - loss: 0.0435 - accuracy: 0.9848 - val_loss: 0.1713 - val_accuracy: 0.9559\n",
            "Epoch 15/20\n",
            "691/691 [==============================] - ETA: 0s - loss: 0.0370 - accuracy: 0.9871\n",
            "Epoch 15: val_accuracy did not improve from 0.95771\n",
            "691/691 [==============================] - 97s 141ms/step - loss: 0.0370 - accuracy: 0.9871 - val_loss: 0.1736 - val_accuracy: 0.9563\n",
            "Epoch 16/20\n",
            "691/691 [==============================] - ETA: 0s - loss: 0.0344 - accuracy: 0.9881\n",
            "Epoch 16: val_accuracy did not improve from 0.95771\n",
            "691/691 [==============================] - 98s 142ms/step - loss: 0.0344 - accuracy: 0.9881 - val_loss: 0.1844 - val_accuracy: 0.9559\n",
            "Epoch 17/20\n",
            "691/691 [==============================] - ETA: 0s - loss: 0.0338 - accuracy: 0.9883\n",
            "Epoch 17: val_accuracy did not improve from 0.95771\n",
            "691/691 [==============================] - 102s 148ms/step - loss: 0.0338 - accuracy: 0.9883 - val_loss: 0.1914 - val_accuracy: 0.9555\n",
            "Epoch 18/20\n",
            "691/691 [==============================] - ETA: 0s - loss: 0.0314 - accuracy: 0.9892\n",
            "Epoch 18: val_accuracy did not improve from 0.95771\n",
            "691/691 [==============================] - 97s 141ms/step - loss: 0.0314 - accuracy: 0.9892 - val_loss: 0.1925 - val_accuracy: 0.9560\n",
            "Epoch 19/20\n",
            "691/691 [==============================] - ETA: 0s - loss: 0.0284 - accuracy: 0.9903\n",
            "Epoch 19: val_accuracy did not improve from 0.95771\n",
            "691/691 [==============================] - 98s 141ms/step - loss: 0.0284 - accuracy: 0.9903 - val_loss: 0.1997 - val_accuracy: 0.9555\n",
            "Epoch 20/20\n",
            "691/691 [==============================] - ETA: 0s - loss: 0.0275 - accuracy: 0.9905\n",
            "Epoch 20: val_accuracy did not improve from 0.95771\n",
            "691/691 [==============================] - 97s 140ms/step - loss: 0.0275 - accuracy: 0.9905 - val_loss: 0.1993 - val_accuracy: 0.9563\n"
          ]
        },
        {
          "output_type": "execute_result",
          "data": {
            "text/plain": [
              "<keras.callbacks.History at 0x7f67b042e6d0>"
            ]
          },
          "metadata": {},
          "execution_count": 20
        }
      ],
      "source": [
        "#Finding word level accuracy\n",
        "\n",
        "train = build_model(units=256,\n",
        "                    dense_size=128,\n",
        "                    enc_layers=1,\n",
        "                    dec_layers=1,\n",
        "                    cell = \"GRU\",\n",
        "                    dropout = 0.2,\n",
        "                    embed_dim = 256)\n",
        "train.compile(optimizer = 'adam',loss='categorical_crossentropy',metrics=['accuracy'])\n",
        "checkpoint= tf.keras.callbacks.ModelCheckpoint('best_model_attention.h5',monitor='val_accuracy',mode='max',save_best_only=True,verbose=1)\n",
        "train.fit([trainx,trainxx],trainy,\n",
        "             batch_size=64,\n",
        "             validation_data = ([valx,valxx],valy),\n",
        "             epochs=20,\n",
        "             callbacks=[checkpoint])"
      ]
    },
    {
      "cell_type": "code",
      "execution_count": null,
      "metadata": {
        "id": "5nD_tKN3anOo"
      },
      "outputs": [],
      "source": [
        ""
      ]
    },
    {
      "cell_type": "code",
      "execution_count": null,
      "metadata": {
        "id": "3poAH463anOp"
      },
      "outputs": [],
      "source": [
        ""
      ]
    },
    {
      "cell_type": "code",
      "execution_count": null,
      "metadata": {
        "id": "p9FTx21JanOp"
      },
      "outputs": [],
      "source": [
        "train.save('best_model_attention.h5')"
      ]
    },
    {
      "cell_type": "code",
      "execution_count": null,
      "metadata": {
        "id": "W5Jqsw1nanOp"
      },
      "outputs": [],
      "source": [
        "keras.backend.clear_session()\n",
        "model = keras.models.load_model('best_model_attention.h5',custom_objects={'accuracy':'accuracy','Attention':Attention})"
      ]
    },
    {
      "cell_type": "code",
      "execution_count": null,
      "metadata": {
        "id": "UyfHfb8wanOp"
      },
      "outputs": [],
      "source": [
        "def inference_models(model,nunits=32,enc_layers=1,dec_layers=1,cell='LSTM',dropout=None):\n",
        "    keras.backend.clear_session()\n",
        "    encoder_inputs = model.input[0]\n",
        "    encoder_embedding = model.get_layer('enc_embed')\n",
        "    encoder_context = encoder_embedding(encoder_inputs)\n",
        "    decoder_inputs = model.input[1]\n",
        "    decoder_embedding = model.get_layer('dec_embed')\n",
        "    decoder_context = decoder_embedding(decoder_inputs)\n",
        "    \n",
        "    \n",
        "    encoder_prev = [model.get_layer(f'enc_{i}') for i in range(enc_layers-1)]\n",
        "    encoder_fin = model.get_layer(f'enc_{enc_layers-1}')\n",
        "    temp = encoder_context\n",
        "    for i,lay in enumerate(encoder_prev):\n",
        "        temp = lay(temp)\n",
        "        if dropout is not None:\n",
        "            temp = model.get_layer(f'do_{i}')(temp)\n",
        "     \n",
        "    if cell == \"LSTM\":\n",
        "        enc_out, state_h,state_c = encoder_fin(temp)\n",
        "        enc_final = [enc_out,state_h,state_c]\n",
        "        \n",
        "    elif cell == \"GRU\":\n",
        "        enc_out, state = encoder_fin(temp)\n",
        "        enc_final = [enc_out,state]\n",
        "\n",
        "    encoder_model = keras.models.Model(encoder_inputs,enc_final)\n",
        "    \n",
        "    \n",
        "    decoder = [model.get_layer(f'dec_{i}') for i in range(dec_layers)]\n",
        "    \n",
        "    attention = model.get_layer('attention')\n",
        "    \n",
        "    concat1 = model.get_layer('concat1')\n",
        "\n",
        "    if cell == \"LSTM\":\n",
        "        state_inputs = []\n",
        "        state_outputs = []\n",
        "        \n",
        "        encout_input = Input(shape=(None,nunits),name='inputenc')\n",
        "        \n",
        "        temp = decoder_context[:,-1:,:]\n",
        "                                                                  \n",
        "        for i in range(dec_layers):\n",
        "            decoder_input_h = Input(shape=(nunits,),name=f\"inputh{i}\")\n",
        "            decoder_input_c = Input(shape=(nunits,),name=f\"inputc{i}\")\n",
        "            \n",
        "            if i==0:\n",
        "                tup = (decoder_input_h,encout_input)\n",
        "                context,att_wts_out = attention(tup)\n",
        "                temp = concat1([tf.expand_dims(context, 1), temp])\n",
        "                \n",
        "            temp,sh,sc = decoder[i](temp,initial_state = [decoder_input_h,decoder_input_c])\n",
        "            state_inputs += [decoder_input_h,decoder_input_c]\n",
        "            state_outputs += [sh,sc]\n",
        "            \n",
        "        decoder_input_pass = [decoder_inputs,encout_input] + state_inputs\n",
        "\n",
        "    elif cell == \"GRU\":\n",
        "        state_inputs = []\n",
        "        state_outputs = []\n",
        "        \n",
        "        encout_input = Input(shape=(None,nunits),name='inputenc')\n",
        "        \n",
        "        temp = decoder_context[:,:1,:]\n",
        "                                                                  \n",
        "        for i in range(dec_layers):\n",
        "            state_input = Input(shape=(nunits,),name=f\"inputs{i}\")\n",
        "            \n",
        "            if i==0:\n",
        "                tup = (state_input,encout_input)\n",
        "                context,att_wts_out = attention(tup)\n",
        "                temp = concat1([tf.expand_dims(context, 1), temp])\n",
        "                \n",
        "            temp,s = decoder[i](temp,initial_state = state_input)\n",
        "            state_inputs.append(state_input)\n",
        "            state_outputs.append(s)\n",
        "            \n",
        "        decoder_input_pass = [decoder_inputs,encout_input] + state_inputs\n",
        "\n",
        "    pre_out = model.get_layer('dense1')(temp)\n",
        "    final_output = model.get_layer('dense2')(pre_out)\n",
        "\n",
        "    decoder_model = keras.models.Model(decoder_input_pass, [final_output,att_wts_out]+state_outputs)\n",
        "    \n",
        "    return encoder_model,decoder_model"
      ]
    },
    {
      "cell_type": "code",
      "execution_count": null,
      "metadata": {
        "id": "r0Txe9rvanOq"
      },
      "outputs": [],
      "source": [
        "enc,dec = inference_models(train,nunits=256,enc_layers=1,dec_layers=1,cell=\"GRU\",dropout='yes')"
      ]
    },
    {
      "cell_type": "code",
      "execution_count": null,
      "metadata": {
        "id": "NHihui_XanOq"
      },
      "outputs": [],
      "source": [
        "keras.utils.plot_model(dec)"
      ]
    },
    {
      "cell_type": "code",
      "execution_count": null,
      "metadata": {
        "colab": {
          "base_uri": "https://localhost:8080/"
        },
        "id": "fC9C49EHanOq",
        "outputId": "45eb8a08-61aa-4320-ff19-e420db1187c5"
      },
      "outputs": [
        {
          "output_type": "stream",
          "name": "stdout",
          "text": [
            "Model: \"model_1\"\n",
            "__________________________________________________________________________________________________\n",
            " Layer (type)                   Output Shape         Param #     Connected to                     \n",
            "==================================================================================================\n",
            " inputs0 (InputLayer)           [(None, 256)]        0           []                               \n",
            "                                                                                                  \n",
            " inputenc (InputLayer)          [(None, None, 256)]  0           []                               \n",
            "                                                                                                  \n",
            " input2 (InputLayer)            [(None, None)]       0           []                               \n",
            "                                                                                                  \n",
            " attention (Attention)          ((None, 256),        131841      ['inputs0[0][0]',                \n",
            "                                 (None, None, 1))                 'inputenc[0][0]']               \n",
            "                                                                                                  \n",
            " dec_embed (Embedding)          (None, None, 256)    16896       ['input2[0][0]']                 \n",
            "                                                                                                  \n",
            " tf.expand_dims (TFOpLambda)    (None, 1, 256)       0           ['attention[21][0]']             \n",
            "                                                                                                  \n",
            " tf.__operators__.getitem (Slic  (None, None, 256)   0           ['dec_embed[1][0]']              \n",
            " ingOpLambda)                                                                                     \n",
            "                                                                                                  \n",
            " concat1 (Concatenate)          (None, 1, 512)       0           ['tf.expand_dims[0][0]',         \n",
            "                                                                  'tf.__operators__.getitem[0][0]'\n",
            "                                                                 ]                                \n",
            "                                                                                                  \n",
            " dec_0 (GRU)                    [(None, 1, 256),     591360      ['concat1[21][0]',               \n",
            "                                 (None, 256)]                     'inputs0[0][0]']                \n",
            "                                                                                                  \n",
            " dense1 (Dense)                 multiple             32896       ['dec_0[21][0]']                 \n",
            "                                                                                                  \n",
            " dense2 (Dense)                 multiple             8514        ['dense1[1][0]']                 \n",
            "                                                                                                  \n",
            "==================================================================================================\n",
            "Total params: 781,507\n",
            "Trainable params: 781,507\n",
            "Non-trainable params: 0\n",
            "__________________________________________________________________________________________________\n"
          ]
        }
      ],
      "source": [
        "dec.summary()"
      ]
    },
    {
      "cell_type": "code",
      "execution_count": null,
      "metadata": {
        "colab": {
          "base_uri": "https://localhost:8080/"
        },
        "id": "1u-Zv2hjanOq",
        "outputId": "4833c10d-e361-4c8c-92b7-b627b1f7ad31"
      },
      "outputs": [
        {
          "output_type": "stream",
          "name": "stdout",
          "text": [
            "WARNING:tensorflow:Compiled the loaded model, but the compiled metrics have yet to be built. `model.compile_metrics` will be empty until you train or evaluate the model.\n",
            "WARNING:tensorflow:Compiled the loaded model, but the compiled metrics have yet to be built. `model.compile_metrics` will be empty until you train or evaluate the model.\n"
          ]
        }
      ],
      "source": [
        "enc.save('best_enc_attention.h5')\n",
        "dec.save('best_dec_attention.h5')"
      ]
    },
    {
      "cell_type": "code",
      "execution_count": null,
      "metadata": {
        "tags": [],
        "id": "r58Ixpz2anOr"
      },
      "outputs": [],
      "source": [
        "import time"
      ]
    },
    {
      "cell_type": "code",
      "execution_count": null,
      "metadata": {
        "id": "Q9fFlIdsanOr"
      },
      "outputs": [],
      "source": [
        "def beam_search(inp,k,dec_layers,cell=\"LSTM\"):\n",
        "    enc_out = enc.predict(inp)\n",
        "    statess = enc_out[1:]\n",
        "    target_seq = np.zeros((inp.shape[0],1))\n",
        "    target_seq[:,0] = hin_token_map[\"\\t\"]\n",
        "    if cell == \"LSTM\":\n",
        "        states = []\n",
        "        for i in range(dec_layers):\n",
        "            states += [statess[0],statess[1]]\n",
        "    else:\n",
        "        states = []\n",
        "        for i in range(dec_layers):\n",
        "            states += [statess]\n",
        "            \n",
        "    output = dec.predict([target_seq,enc_out[0]]+states)\n",
        "    states = output[2:]\n",
        "    \n",
        "    stat1 = np.asarray(states).transpose([1,0,2])\n",
        "    \n",
        "    best_chars = np.argsort(output[0][:,-1,:],axis=-1)[:,-k:]\n",
        "    scores = np.sort(output[0][:,-1,:],axis=-1)[:,-k:]\n",
        "    sequences = [[([ch],-np.log(sc),stat1[i],0,output[1][i]) for ch,sc in zip(best_chars[i],scores[i])] for i in range(inp.shape[0])]\n",
        "    \n",
        "    for t1 in range(max_hin_len-1):\n",
        "        candidates = [[] for _ in range(inp.shape[0])]\n",
        "        for j in range(k):\n",
        "            target_seq[:,0] = [sequences[i][j][0][-1] for i in range(inp.shape[0])]\n",
        "            states = list(np.asarray([sequences[i][j][2] for i in range(inp.shape[0])]).transpose([1,0,2]))\n",
        "            output = dec.predict([target_seq,enc_out[0]]+states,batch_size=32)\n",
        "            best_chars = np.argsort(output[0][:,-1,:],axis=-1)[:,-k:]\n",
        "            scores = np.sort(output[0][:,-1,:],axis=-1)[:,-k:]\n",
        "            \n",
        "            stat1 = np.asarray(output[2:]).transpose([1,0,2])\n",
        "            \n",
        "            for i in range(inp.shape[0]):\n",
        "                chk = 1 if (sequences[i][j][3]==1 or sequences[i][j][0][-1] == hin_token_map[\"\\n\"]) else 0\n",
        "                if chk == 0:\n",
        "                    candidates[i] += [(sequences[i][j][0]+[best_chars[i,rep]],\n",
        "                                       sequences[i][j][1]-np.log(scores[i,rep]),\n",
        "                                       stat1[i],\n",
        "                                       chk,\n",
        "                                       np.concatenate((sequences[i][j][4],output[1][i]),axis=1))\n",
        "                                      for rep in range(k)]\n",
        "                else:\n",
        "                    candidates[i] += [sequences[i][j]]\n",
        "                    \n",
        "        for i in range(inp.shape[0]):\n",
        "            candidates[i] = sorted(candidates[i],key = lambda tup:tup[1]/len(tup[0]))\n",
        "            sequences[i] = candidates[i][:k]\n",
        "            \n",
        "        #print(f\"decoder {t1} done\")\n",
        "            \n",
        "        \n",
        "    res = [list() for i in range(inp.shape[0])]\n",
        "    att_wts = [list() for i in range(inp.shape[0])]\n",
        "    for i in range(inp.shape[0]):\n",
        "        for j in range(k):\n",
        "            res[i].append(sequences[i][j][0])\n",
        "            att_wts[i].append(sequences[i][j][4])\n",
        "        \n",
        "    return res,att_wts"
      ]
    },
    {
      "cell_type": "code",
      "execution_count": null,
      "metadata": {
        "colab": {
          "base_uri": "https://localhost:8080/"
        },
        "id": "ZvaveY1BanOr",
        "outputId": "64e934c2-9b6a-406c-d9ec-1f5efafb3c5a"
      },
      "outputs": [
        {
          "output_type": "stream",
          "name": "stdout",
          "text": [
            "129.43263840675354\n"
          ]
        }
      ],
      "source": [
        "import time\n",
        "start = time.time()\n",
        "prediction,att_wts = beam_search(testx,5,1,cell=\"GRU\")\n",
        "print(time.time()-start)"
      ]
    },
    {
      "cell_type": "code",
      "execution_count": null,
      "metadata": {
        "tags": [],
        "id": "X7EbY86fanOr"
      },
      "outputs": [],
      "source": [
        "def test_accuracy_beam(prediction):\n",
        "  acc = 0\n",
        "\n",
        "  for i,pre in enumerate(prediction):\n",
        "      chk = 0\n",
        "      \n",
        "      for pr in pre:\n",
        "          fl = 1\n",
        "          for j,ch in enumerate(pr):\n",
        "              if ch!=np.argmax(testy[i,j,:]):\n",
        "                  fl=0\n",
        "                  break\n",
        "              if ch==hin_token_map[\"\\n\"]:\n",
        "                  break\n",
        "          chk = chk or fl\n",
        "          \n",
        "      if chk==1:\n",
        "          acc+=1\n",
        "          \n",
        "          \n",
        "  return (acc/len(prediction))*100\n",
        "\n"
      ]
    },
    {
      "cell_type": "code",
      "execution_count": null,
      "metadata": {
        "id": "7fVjyiAJanOs"
      },
      "outputs": [],
      "source": [
        "words_beam = []\n",
        "words = []\n",
        "def test_accuracy(prediction):\n",
        "  acc = 0\n",
        "\n",
        "  for i,pre in enumerate(prediction):\n",
        "      word = []\n",
        "      word1 = []\n",
        "      \n",
        "      orig = \"\"\n",
        "      for ch in testx[i]:\n",
        "          if reverse_eng_map[ch] == \" \":\n",
        "              break\n",
        "          orig += reverse_eng_map[ch]\n",
        "      word.append(orig)\n",
        "      word1.append(orig)\n",
        "      \n",
        "      hind = \"\"\n",
        "      for ch in testxx[i,1:]:\n",
        "          if reverse_hin_map[ch] == \"\\n\":\n",
        "              break\n",
        "          hind += reverse_hin_map[ch]\n",
        "      \n",
        "      word.append(hind)\n",
        "      word1.append(hind)\n",
        "      \n",
        "      fl=0\n",
        "      \n",
        "      for j,pr in enumerate(pre):\n",
        "          deco1 = \"\"\n",
        "          for ch in pr:\n",
        "              if reverse_hin_map[ch] == \"\\n\":\n",
        "                  break\n",
        "              deco1 += reverse_hin_map[ch]\n",
        "          word.append(deco1)\n",
        "          if j==0:\n",
        "              word1.append(deco1)\n",
        "              \n",
        "          \n",
        "              if hind==deco1:\n",
        "                  fl=1\n",
        "              \n",
        "      if fl==1:\n",
        "          acc += 1\n",
        "          \n",
        "      words.append(word1)\n",
        "      words_beam.append(word)\n",
        "      \n",
        "  return (acc/len(words))*100\n",
        "\n"
      ]
    },
    {
      "cell_type": "code",
      "source": [
        "print(\"Test accuracy with beam search taking top 5 words is \", test_accuracy_beam(prediction))\n",
        "print(\"Test accuracy is taking first words\", test_accuracy(prediction))"
      ],
      "metadata": {
        "colab": {
          "base_uri": "https://localhost:8080/"
        },
        "id": "Zgz_qD8KP5CX",
        "outputId": "842f36c0-0c2a-4f05-8d7e-d8e4db8a5a11"
      },
      "execution_count": null,
      "outputs": [
        {
          "output_type": "stream",
          "name": "stdout",
          "text": [
            "Test accuracy with beam search taking top 5 words is  70.41314971123946\n",
            "Test accuracy is taking first words 38.04975566414927\n"
          ]
        }
      ]
    },
    {
      "cell_type": "code",
      "execution_count": null,
      "metadata": {
        "id": "2nkaozC_anOs"
      },
      "outputs": [],
      "source": [
        "beam_df = pd.DataFrame(words_beam ,columns=['English','Hindi']+[f'Pred_Attention_{i}' for i in range(5)])\n",
        "\n",
        "\n",
        "\n",
        "test_df = pd.DataFrame(words,columns=['English','Hindi','pred_Attention'])\n",
        "test_df.to_csv('predictions_attention.csv')\n"
      ]
    },
    {
      "cell_type": "code",
      "source": [
        ""
      ],
      "metadata": {
        "id": "NM5NsudASZEg"
      },
      "execution_count": null,
      "outputs": []
    },
    {
      "cell_type": "code",
      "execution_count": null,
      "metadata": {
        "id": "jP3u2xHHanOs"
      },
      "outputs": [],
      "source": [
        ""
      ]
    },
    {
      "cell_type": "code",
      "execution_count": null,
      "metadata": {
        "id": "ScznJRRaanOs"
      },
      "outputs": [],
      "source": [
        ""
      ]
    },
    {
      "cell_type": "markdown",
      "metadata": {
        "id": "C3Lw-wnBanOs"
      },
      "source": [
        "## Question 5(d)"
      ]
    },
    {
      "cell_type": "code",
      "execution_count": null,
      "metadata": {
        "id": "9dV04gayanOt"
      },
      "outputs": [],
      "source": [
        "from matplotlib.font_manager import FontProperties\n",
        "import matplotlib.ticker as ticker\n",
        "import matplotlib as mpl\n",
        "from mpl_toolkits.axes_grid1 import make_axes_locatable\n",
        "\n",
        "mpl.rcParams['font.sans-serif'] = [\"Arial Unicode MS\"]\n",
        "\n",
        "def plot_attention(attention, sentence, predicted_sentence,orig,hind,deco):\n",
        "    \n",
        "    fig = plt.figure(figsize=(6,5))\n",
        "    ax = fig.add_subplot(1, 1, 1)\n",
        "    plott = ax.matshow(attention, cmap='viridis')\n",
        "\n",
        "    fontdict = {'fontsize': 16}\n",
        "    hindi_font = FontProperties(fname = 'VesperLibre-Regular.ttf')\n",
        "    \n",
        "    ax.set_xticklabels([''] + sentence, fontdict=fontdict, rotation=90)\n",
        "    ax.set_yticklabels([''] + predicted_sentence, fontproperties=hindi_font, fontdict=fontdict)\n",
        "\n",
        "    ax.xaxis.set_major_locator(ticker.MultipleLocator(1))\n",
        "    ax.yaxis.set_major_locator(ticker.MultipleLocator(1))\n",
        "    \n",
        "    title = f\"Original word in english: {orig}\\nOriginal word in hindi: {hind}\\nDecoded word in hindi: {deco}\"\n",
        "    \n",
        "    fontdict = {'fontsize': 18}\n",
        "    plt.title(title,fontproperties=hindi_font, fontsize=14,y=-.3)\n",
        "    \n",
        "    divider = make_axes_locatable(ax)\n",
        "    cax = divider.append_axes(\"right\", size=\"5%\", pad=0.1)\n",
        "    plt.colorbar(plott,cax=cax)\n",
        "    \n",
        "    plt.tight_layout()\n",
        "    plt.savefig(f'attention/{orig}.png', bbox_inches = 'tight')\n",
        "    plt.show()"
      ]
    },
    {
      "cell_type": "code",
      "execution_count": null,
      "metadata": {
        "collapsed": true,
        "jupyter": {
          "outputs_hidden": true
        },
        "colab": {
          "base_uri": "https://localhost:8080/",
          "height": 1000
        },
        "id": "Qisq_FWKanOt",
        "outputId": "fbbcbfc1-2c21-4e74-9122-5fae67cbcefb"
      },
      "outputs": [
        {
          "output_type": "stream",
          "name": "stderr",
          "text": [
            "findfont: Font family ['sans-serif'] not found. Falling back to DejaVu Sans.\n"
          ]
        },
        {
          "output_type": "stream",
          "name": "stdout",
          "text": [
            "Original word in english: masaaledaar\n",
            "Original word in hindi: मसालेदार\n",
            "Decoded word in hindi: मसालेदार\n"
          ]
        },
        {
          "output_type": "display_data",
          "data": {
            "text/plain": [
              "<Figure size 432x360 with 2 Axes>"
            ],
            "image/png": "[encoded data removed]"
          },
          "metadata": {
            "needs_background": "light"
          }
        },
        {
          "output_type": "stream",
          "name": "stdout",
          "text": [
            "Original word in english: udant\n",
            "Original word in hindi: उदंत\n",
            "Decoded word in hindi: उदांत\n"
          ]
        },
        {
          "output_type": "display_data",
          "data": {
            "text/plain": [
              "<Figure size 432x360 with 2 Axes>"
            ],
            "image/png": "[encoded data removed]"
          },
          "metadata": {
            "needs_background": "light"
          }
        },
        {
          "output_type": "stream",
          "name": "stdout",
          "text": [
            "Original word in english: haraval\n",
            "Original word in hindi: हरावल\n",
            "Decoded word in hindi: हरावल\n"
          ]
        },
        {
          "output_type": "display_data",
          "data": {
            "text/plain": [
              "<Figure size 432x360 with 2 Axes>"
            ],
            "image/png": "[encoded data removed]"
          },
          "metadata": {
            "needs_background": "light"
          }
        },
        {
          "output_type": "stream",
          "name": "stdout",
          "text": [
            "Original word in english: rishtey\n",
            "Original word in hindi: रिश्ते\n",
            "Decoded word in hindi: रिश्ते\n"
          ]
        },
        {
          "output_type": "display_data",
          "data": {
            "text/plain": [
              "<Figure size 432x360 with 2 Axes>"
            ],
            "image/png": "[encoded data removed]"
          },
          "metadata": {
            "needs_background": "light"
          }
        },
        {
          "output_type": "stream",
          "name": "stdout",
          "text": [
            "Original word in english: mass\n",
            "Original word in hindi: मास\n",
            "Decoded word in hindi: मैस\n"
          ]
        },
        {
          "output_type": "display_data",
          "data": {
            "text/plain": [
              "<Figure size 432x360 with 2 Axes>"
            ],
            "image/png": "[encoded data removed]"
          },
          "metadata": {
            "needs_background": "light"
          }
        },
        {
          "output_type": "stream",
          "name": "stdout",
          "text": [
            "Original word in english: brahmalin\n",
            "Original word in hindi: ब्रह्मलीन\n",
            "Decoded word in hindi: ब्राह्मलाइन\n"
          ]
        },
        {
          "output_type": "display_data",
          "data": {
            "text/plain": [
              "<Figure size 432x360 with 2 Axes>"
            ],
            "image/png": "[encoded data removed]"
          },
          "metadata": {
            "needs_background": "light"
          }
        },
        {
          "output_type": "stream",
          "name": "stdout",
          "text": [
            "Original word in english: abhimat\n",
            "Original word in hindi: अभिमत\n",
            "Decoded word in hindi: अभिमात\n"
          ]
        },
        {
          "output_type": "display_data",
          "data": {
            "text/plain": [
              "<Figure size 432x360 with 2 Axes>"
            ],
            "image/png": "[encoded data removed]"
          },
          "metadata": {
            "needs_background": "light"
          }
        },
        {
          "output_type": "stream",
          "name": "stdout",
          "text": [
            "Original word in english: talvon\n",
            "Original word in hindi: तलवों\n",
            "Decoded word in hindi: तलवों\n"
          ]
        },
        {
          "output_type": "display_data",
          "data": {
            "text/plain": [
              "<Figure size 432x360 with 2 Axes>"
            ],
            "image/png": "[encoded data removed]"
          },
          "metadata": {
            "needs_background": "light"
          }
        },
        {
          "output_type": "stream",
          "name": "stdout",
          "text": [
            "Original word in english: kajoo\n",
            "Original word in hindi: काजू\n",
            "Decoded word in hindi: काजू\n"
          ]
        },
        {
          "output_type": "display_data",
          "data": {
            "text/plain": [
              "<Figure size 432x360 with 2 Axes>"
            ],
            "image/png": "[encoded data removed]"
          },
          "metadata": {
            "needs_background": "light"
          }
        }
      ],
      "source": [
        "eve = beam_df.values\n",
        "\n",
        "for _ in range(9):\n",
        "    sp = np.random.choice(eve.shape[0])\n",
        "\n",
        "    decoded_sentence_list = [x for x in eve[sp][2].strip()] + ['<end>']\n",
        "    input_sentence_list = [x for x in eve[sp][0].strip()] + ['<end>']\n",
        "\n",
        "    attention_plot = att_wts[sp][0][:len(input_sentence_list),:len(decoded_sentence_list)].T\n",
        "\n",
        "    print(\"Original word in english:\", eve[sp][0])\n",
        "    print(\"Original word in hindi:\", eve[sp][1])\n",
        "    print(\"Decoded word in hindi:\", eve[sp][2])\n",
        "\n",
        "    plot_attention(attention_plot, input_sentence_list, decoded_sentence_list,eve[sp][0],eve[sp][1],eve[sp][2])\n"
      ]
    },
    {
      "cell_type": "code",
      "source": [
        "from IPython.display import HTML as html_print\n",
        "from IPython.display import display"
      ],
      "metadata": {
        "id": "tbe2CRqqlpJG"
      },
      "execution_count": null,
      "outputs": []
    },
    {
      "cell_type": "code",
      "source": [
        "# get html element\n",
        "def cstr(s, color='black'):\n",
        "    if s == ' ':\n",
        "        return \"<text style=color:#000;padding-left:10px;background-color:{}> </text>\".format(color, s)\n",
        "    else:\n",
        "        return \"<text style=color:#000;background-color:{}>{} </text>\".format(color, s)\n",
        "\n",
        "# print html\n",
        "def print_color(t,ch):\n",
        "    display(html_print(''.join([cstr(ch,color='#fffff')]+[cstr(' ',color='#fffff') for _ in range(3)]+[cstr(ti, color=ci) for ti,ci in t])))\n",
        "\n",
        "# get appropriate color for value\n",
        "def get_clr(value):\n",
        "    colors = ['#85c2e1', '#89c4e2', '#95cae5', '#99cce6', '#a1d0e8'\n",
        "        '#b2d9ec', '#baddee', '#c2e1f0', '#eff7fb', '#f9e8e8',\n",
        "        '#f9e8e8', '#f9d4d4', '#f9bdbd', '#f8a8a8', '#f68f8f',\n",
        "        '#f47676', '#f45f5f', '#f34343', '#f33b3b', '#f42e2e']\n",
        "    value = max(0,min(int((value * 100) / 5),19))\n",
        "    return colors[value]\n",
        "\n",
        "def sigmoid(x):\n",
        "    z = 1/(1 + np.exp(-x)) \n",
        "    return z\n",
        "def visualize(output_values, result_list,dec_char,dec):\n",
        "    text_colours = []\n",
        "    for i in range(len(output_values)):\n",
        "        text = (result_list[i], get_clr(output_values[i]))\n",
        "        text_colours.append(text)\n",
        "    print_color(text_colours,dec)"
      ],
      "metadata": {
        "id": "H1m_DwkWlpNa"
      },
      "execution_count": null,
      "outputs": []
    },
    {
      "cell_type": "code",
      "source": [
        "def visualise_word(ex,sp):\n",
        "    word = eve[ex][sp+2]\n",
        "    engword = eve[ex][0]\n",
        "    attwts = att_wts[ex][sp][:len(engword),:]\n",
        "    print(\"Original word in english:\",engword)\n",
        "    print(\"Decoded word in hindi:\",word)\n",
        "    for i in range(len(word)):\n",
        "        visualize(attwts[:,i],engword,i,word[i])"
      ],
      "metadata": {
        "id": "-nDQtPyWlpSR"
      },
      "execution_count": null,
      "outputs": []
    },
    {
      "cell_type": "code",
      "source": [
        "#visualise random word\n",
        "ex = np.random.choice(len(eve))\n",
        "visualise_word(ex,0)"
      ],
      "metadata": {
        "colab": {
          "base_uri": "https://localhost:8080/",
          "height": 121
        },
        "id": "Eitl1W3plpWy",
        "outputId": "d616f405-9a0a-49c2-9c44-3e736425ae53"
      },
      "execution_count": null,
      "outputs": [
        {
          "output_type": "stream",
          "name": "stdout",
          "text": [
            "Original word in english: chand\n",
            "Decoded word in hindi: चांद\n"
          ]
        },
        {
          "output_type": "display_data",
          "data": {
            "text/plain": [
              "<IPython.core.display.HTML object>"
            ],
            "text/html": [
              "<text style=color:#000;background-color:#fffff>च </text><text style=color:#000;padding-left:10px;background-color:#fffff> </text><text style=color:#000;padding-left:10px;background-color:#fffff> </text><text style=color:#000;padding-left:10px;background-color:#fffff> </text><text style=color:#000;background-color:#89c4e2>c </text><text style=color:#000;background-color:#f42e2e>h </text><text style=color:#000;background-color:#85c2e1>a </text><text style=color:#000;background-color:#85c2e1>n </text><text style=color:#000;background-color:#85c2e1>d </text>"
            ]
          },
          "metadata": {}
        },
        {
          "output_type": "display_data",
          "data": {
            "text/plain": [
              "<IPython.core.display.HTML object>"
            ],
            "text/html": [
              "<text style=color:#000;background-color:#fffff>ा </text><text style=color:#000;padding-left:10px;background-color:#fffff> </text><text style=color:#000;padding-left:10px;background-color:#fffff> </text><text style=color:#000;padding-left:10px;background-color:#fffff> </text><text style=color:#000;background-color:#85c2e1>c </text><text style=color:#000;background-color:#85c2e1>h </text><text style=color:#000;background-color:#85c2e1>a </text><text style=color:#000;background-color:#eff7fb>n </text><text style=color:#000;background-color:#f9e8e8>d </text>"
            ]
          },
          "metadata": {}
        },
        {
          "output_type": "display_data",
          "data": {
            "text/plain": [
              "<IPython.core.display.HTML object>"
            ],
            "text/html": [
              "<text style=color:#000;background-color:#fffff>ं </text><text style=color:#000;padding-left:10px;background-color:#fffff> </text><text style=color:#000;padding-left:10px;background-color:#fffff> </text><text style=color:#000;padding-left:10px;background-color:#fffff> </text><text style=color:#000;background-color:#85c2e1>c </text><text style=color:#000;background-color:#85c2e1>h </text><text style=color:#000;background-color:#85c2e1>a </text><text style=color:#000;background-color:#89c4e2>n </text><text style=color:#000;background-color:#f34343>d </text>"
            ]
          },
          "metadata": {}
        },
        {
          "output_type": "display_data",
          "data": {
            "text/plain": [
              "<IPython.core.display.HTML object>"
            ],
            "text/html": [
              "<text style=color:#000;background-color:#fffff>द </text><text style=color:#000;padding-left:10px;background-color:#fffff> </text><text style=color:#000;padding-left:10px;background-color:#fffff> </text><text style=color:#000;padding-left:10px;background-color:#fffff> </text><text style=color:#000;background-color:#85c2e1>c </text><text style=color:#000;background-color:#85c2e1>h </text><text style=color:#000;background-color:#89c4e2>a </text><text style=color:#000;background-color:#89c4e2>n </text><text style=color:#000;background-color:#f9bdbd>d </text>"
            ]
          },
          "metadata": {}
        }
      ]
    },
    {
      "cell_type": "code",
      "source": [
        ""
      ],
      "metadata": {
        "id": "msOvevVhlpdh"
      },
      "execution_count": null,
      "outputs": []
    },
    {
      "cell_type": "markdown",
      "source": [
        "Gif part"
      ],
      "metadata": {
        "id": "mm__SDKHmZM1"
      }
    },
    {
      "cell_type": "code",
      "source": [
        "!gdown --id 1g2bTbYAVLmc_IuKzTKOVqgLU7uvUE7dr #import Lohit-devanagri .ttf for matplotlib"
      ],
      "metadata": {
        "colab": {
          "base_uri": "https://localhost:8080/"
        },
        "id": "W8zt3qLwVPd7",
        "outputId": "ab92fcc8-4305-4d5e-f3b2-0beb2b3148b6"
      },
      "execution_count": null,
      "outputs": [
        {
          "output_type": "stream",
          "name": "stdout",
          "text": [
            "/usr/local/lib/python3.7/dist-packages/gdown/cli.py:131: FutureWarning: Option `--id` was deprecated in version 4.3.1 and will be removed in 5.0. You don't need to pass it anymore to use a file ID.\n",
            "  category=FutureWarning,\n",
            "Downloading...\n",
            "From: https://drive.google.com/uc?id=1g2bTbYAVLmc_IuKzTKOVqgLU7uvUE7dr\n",
            "To: /content/Lohit-Devanagari.ttf\n",
            "100% 72.3k/72.3k [00:00<00:00, 85.0MB/s]\n"
          ]
        }
      ]
    },
    {
      "cell_type": "code",
      "source": [
        "import warnings\n",
        "import cv2 as cv\n",
        "#!pip install moviepy\n",
        "from moviepy.editor import ImageSequenceClip\n",
        "def visualise(num):\n",
        "  #for i in range(num)\n",
        "  word = test_df.iloc[num,2]\n",
        "  print(word)\n",
        "  frames =[]\n",
        "\n",
        "  org = test_df.iloc[num,0]\n",
        "  warnings.filterwarnings('ignore')\n",
        "  for i in range(len(word)):\n",
        "    plt.text(0,0.9,word,fontproperties=FontProperties(fname = 'Lohit-Devanagari.ttf'),fontsize = 30)\n",
        "    plt.text(0.9,0.9,word[i],fontproperties=FontProperties(fname = 'Lohit-Devanagari.ttf'),fontsize = 30)\n",
        "    plt.axis('off')\n",
        "\n",
        "    alphas = att_wts[num][i]\n",
        "    for j in range(len(org)):\n",
        "      t=plt.text(0.5*(j/6),0.5,org[j],fontsize=30)\n",
        "      t.set_bbox(dict(facecolor='blue', alpha=alphas[j][i], edgecolor='blue'))\n",
        "    plt.savefig('saved_figure.png')\n",
        "    plt.show()\n",
        "    frames.append(cv.cvtColor(cv.imread('saved_figure.png'), cv.COLOR_BGR2RGB ))  \n",
        "\n",
        "  clip = ImageSequenceClip(frames, fps=5)\n",
        "  clip.write_gif('conn' + str(num)+'.gif', fps=5)\n",
        "  return clip"
      ],
      "metadata": {
        "colab": {
          "base_uri": "https://localhost:8080/"
        },
        "id": "IWqJLp5dVPj8",
        "outputId": "17f924f6-fea3-4eba-b3c0-dad6da4f9ac7"
      },
      "execution_count": null,
      "outputs": [
        {
          "output_type": "stream",
          "name": "stdout",
          "text": [
            "Imageio: 'ffmpeg-linux64-v3.3.1' was not found on your computer; downloading it now.\n",
            "Try 1. Download from https://github.com/imageio/imageio-binaries/raw/master/ffmpeg/ffmpeg-linux64-v3.3.1 (43.8 MB)\n",
            "Downloading: 8192/45929032 bytes (0.0%)\b\b\b\b\b\b\b\b\b\b\b\b\b\b\b\b\b\b\b\b\b\b\b\b\b\b2793472/45929032 bytes (6.1%)\b\b\b\b\b\b\b\b\b\b\b\b\b\b\b\b\b\b\b\b\b\b\b\b\b\b\b\b\b6512640/45929032 bytes (14.2%)\b\b\b\b\b\b\b\b\b\b\b\b\b\b\b\b\b\b\b\b\b\b\b\b\b\b\b\b\b\b10166272/45929032 bytes (22.1%)\b\b\b\b\b\b\b\b\b\b\b\b\b\b\b\b\b\b\b\b\b\b\b\b\b\b\b\b\b\b\b13926400/45929032 bytes (30.3%)\b\b\b\b\b\b\b\b\b\b\b\b\b\b\b\b\b\b\b\b\b\b\b\b\b\b\b\b\b\b\b17571840/45929032 bytes (38.3%)\b\b\b\b\b\b\b\b\b\b\b\b\b\b\b\b\b\b\b\b\b\b\b\b\b\b\b\b\b\b\b21020672/45929032 bytes (45.8%)\b\b\b\b\b\b\b\b\b\b\b\b\b\b\b\b\b\b\b\b\b\b\b\b\b\b\b\b\b\b\b24625152/45929032 bytes (53.6%)\b\b\b\b\b\b\b\b\b\b\b\b\b\b\b\b\b\b\b\b\b\b\b\b\b\b\b\b\b\b\b28295168/45929032 bytes (61.6%)\b\b\b\b\b\b\b\b\b\b\b\b\b\b\b\b\b\b\b\b\b\b\b\b\b\b\b\b\b\b\b32055296/45929032 bytes (69.8%)\b\b\b\b\b\b\b\b\b\b\b\b\b\b\b\b\b\b\b\b\b\b\b\b\b\b\b\b\b\b\b35749888/45929032 bytes (77.8%)\b\b\b\b\b\b\b\b\b\b\b\b\b\b\b\b\b\b\b\b\b\b\b\b\b\b\b\b\b\b\b39518208/45929032 bytes (86.0%)\b\b\b\b\b\b\b\b\b\b\b\b\b\b\b\b\b\b\b\b\b\b\b\b\b\b\b\b\b\b\b43335680/45929032 bytes (94.4%)\b\b\b\b\b\b\b\b\b\b\b\b\b\b\b\b\b\b\b\b\b\b\b\b\b\b\b\b\b\b\b45929032/45929032 bytes (100.0%)\n",
            "  Done\n",
            "File saved as /root/.imageio/ffmpeg/ffmpeg-linux64-v3.3.1.\n"
          ]
        }
      ]
    },
    {
      "cell_type": "code",
      "execution_count": null,
      "metadata": {
        "colab": {
          "base_uri": "https://localhost:8080/",
          "height": 1000
        },
        "id": "LATYI_wkanOu",
        "outputId": "83a68bf2-3f9a-4047-92de-440549028bf1"
      },
      "outputs": [
        {
          "output_type": "stream",
          "name": "stdout",
          "text": [
            "अजहर\n"
          ]
        },
        {
          "output_type": "display_data",
          "data": {
            "text/plain": [
              "<Figure size 432x288 with 1 Axes>"
            ],
            "image/png": "[encoded data removed]"
          },
          "metadata": {
            "needs_background": "light"
          }
        },
        {
          "output_type": "display_data",
          "data": {
            "text/plain": [
              "<Figure size 432x288 with 1 Axes>"
            ],
            "image/png": "[encoded data removed]"
          },
          "metadata": {
            "needs_background": "light"
          }
        },
        {
          "output_type": "display_data",
          "data": {
            "text/plain": [
              "<Figure size 432x288 with 1 Axes>"
            ],
            "image/png": "[encoded data removed]"
          },
          "metadata": {
            "needs_background": "light"
          }
        },
        {
          "output_type": "display_data",
          "data": {
            "text/plain": [
              "<Figure size 432x288 with 1 Axes>"
            ],
            "image/png": "[encoded data removed]"
          },
          "metadata": {
            "needs_background": "light"
          }
        },
        {
          "output_type": "stream",
          "name": "stdout",
          "text": [
            "\n",
            "[MoviePy] Building file conn50.gif with imageio\n"
          ]
        },
        {
          "output_type": "stream",
          "name": "stderr",
          "text": [
            " 80%|████████  | 4/5 [00:00<00:00, 26.80it/s]\n"
          ]
        }
      ],
      "source": [
        "#Change the number here\n",
        "which_word = 50\n",
        "clip = visualise(which_word)"
      ]
    }
  ],
  "metadata": {
    "colab": {
      "name": "attention_without_wandb.ipynb",
      "provenance": [],
      "collapsed_sections": [],
      "include_colab_link": true
    },
    "kernelspec": {
      "display_name": "Python 3",
      "language": "python",
      "name": "python3"
    },
    "language_info": {
      "codemirror_mode": {
        "name": "ipython",
        "version": 3
      },
      "file_extension": ".py",
      "mimetype": "text/x-python",
      "name": "python",
      "nbconvert_exporter": "python",
      "pygments_lexer": "ipython3",
      "version": "3.8.3"
    }
  },
  "nbformat": 4,
  "nbformat_minor": 0
}